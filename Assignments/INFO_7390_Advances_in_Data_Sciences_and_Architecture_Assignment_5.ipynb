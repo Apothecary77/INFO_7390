{
 "cells": [
  {
   "cell_type": "markdown",
   "metadata": {
    "collapsed": true
   },
   "source": [
    "## Assignment 5\n",
    "\n",
    "**Due Tuesday, July 3, 2018**   \n",
    "\n",
    "_Submission: Put the data and Jupyter notebook files in a folder. Make sure all links to data are relative to the folder so the TAs can run the notebooks._   Points will be deducted if the TAs can't run the notebooks.\n",
    "\n",
    "You can also use H2O AI. [https://www.h2o.ai](https://www.h2o.ai)    \n",
    "\n",
    "Use the public dataset that you used for cleaning in the EDA assignment OR you can use the datset that you are using for your project. You _MUST_ get approval if you wish to use a _different_ dataset.\n",
    "\n",
    "In this assingment you will compare various forms of supervised learning. You will also create a stacked ensemble super-learner.   \n",
    "\n",
    "### Part A     \n",
    "\n",
    "*  Supervised learning infers a function from labeled training data consisting of a set of training examples.:\n",
    "    * Predict a dependent variable using at least four classes of base supervised learners. (50 points)\n",
    "    \n",
    "Answer the following questions for each supervised learner:  \n",
    "    * Which hyper-parameters are important?\n",
    "    * What hyper-parameter values work best? \n",
    "    * Which supervised learner works best on the test data?  \n",
    "  \n",
    "### Part B   \n",
    "\n",
    "*  Neural networks can be used for supervised learning:\n",
    "    * Predict a dependent variable using a feed-forward neural network. (25 points)\n",
    "    \n",
    "Answer the following questions for each supervised learner:  \n",
    "    * Which hyper-parameters are important?\n",
    "    * What hyper-parameter values work best? \n",
    "    * How the the neural network compare to the supervised learners in part A?       \n",
    "\n",
    "### Part C     \n",
    "    \n",
    "Create a stacked ensemble super-model.      \n",
    "    \n",
    "* Generate a stacked ensemble super-model for the best learners in parts A & B:  \n",
    "\n",
    "    * Did the stacked ensemble super-model help? (25 points)  \n",
    "    \n",
    "Answer the following questions for the stacked ensemble super-model:  \n",
    "    * How did to combine the models?  \n",
    "    * Cross-validate the model. How well did it do?   \n",
    "    "
   ]
  },
  {
   "cell_type": "markdown",
   "metadata": {},
   "source": [
    "Last update October 3, 2017"
   ]
  }
 ],
 "metadata": {
  "kernelspec": {
   "display_name": "Python 3",
   "language": "python",
   "name": "python3"
  },
  "language_info": {
   "codemirror_mode": {
    "name": "ipython",
    "version": 3
   },
   "file_extension": ".py",
   "mimetype": "text/x-python",
   "name": "python",
   "nbconvert_exporter": "python",
   "pygments_lexer": "ipython3",
   "version": "3.6.5"
  }
 },
 "nbformat": 4,
 "nbformat_minor": 2
}
